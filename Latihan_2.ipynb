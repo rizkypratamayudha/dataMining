{
  "nbformat": 4,
  "nbformat_minor": 0,
  "metadata": {
    "colab": {
      "provenance": [],
      "authorship_tag": "ABX9TyP1wQPEFzXqVfZ9uW6VuLP/",
      "include_colab_link": true
    },
    "kernelspec": {
      "name": "python3",
      "display_name": "Python 3"
    },
    "language_info": {
      "name": "python"
    }
  },
  "cells": [
    {
      "cell_type": "markdown",
      "metadata": {
        "id": "view-in-github",
        "colab_type": "text"
      },
      "source": [
        "<a href=\"https://colab.research.google.com/github/rizkypratamayudha/dataMining/blob/main/Latihan_2.ipynb\" target=\"_parent\"><img src=\"https://colab.research.google.com/assets/colab-badge.svg\" alt=\"Open In Colab\"/></a>"
      ]
    },
    {
      "cell_type": "code",
      "execution_count": 1,
      "metadata": {
        "colab": {
          "base_uri": "https://localhost:8080/"
        },
        "id": "-HYCeMHwNvPj",
        "outputId": "376d3769-6690-4361-8f79-3fa8f0ba019a"
      },
      "outputs": [
        {
          "output_type": "stream",
          "name": "stdout",
          "text": [
            "Collecting spotipy\n",
            "  Downloading spotipy-2.24.0-py3-none-any.whl (30 kB)\n",
            "Collecting redis>=3.5.3 (from spotipy)\n",
            "  Downloading redis-5.0.4-py3-none-any.whl (251 kB)\n",
            "\u001b[2K     \u001b[90m━━━━━━━━━━━━━━━━━━━━━━━━━━━━━━━━━━━━━━━━\u001b[0m \u001b[32m252.0/252.0 kB\u001b[0m \u001b[31m3.8 MB/s\u001b[0m eta \u001b[36m0:00:00\u001b[0m\n",
            "\u001b[?25hRequirement already satisfied: requests>=2.25.0 in /usr/local/lib/python3.10/dist-packages (from spotipy) (2.31.0)\n",
            "Requirement already satisfied: urllib3>=1.26.0 in /usr/local/lib/python3.10/dist-packages (from spotipy) (2.0.7)\n",
            "Requirement already satisfied: async-timeout>=4.0.3 in /usr/local/lib/python3.10/dist-packages (from redis>=3.5.3->spotipy) (4.0.3)\n",
            "Requirement already satisfied: charset-normalizer<4,>=2 in /usr/local/lib/python3.10/dist-packages (from requests>=2.25.0->spotipy) (3.3.2)\n",
            "Requirement already satisfied: idna<4,>=2.5 in /usr/local/lib/python3.10/dist-packages (from requests>=2.25.0->spotipy) (3.7)\n",
            "Requirement already satisfied: certifi>=2017.4.17 in /usr/local/lib/python3.10/dist-packages (from requests>=2.25.0->spotipy) (2024.2.2)\n",
            "Installing collected packages: redis, spotipy\n",
            "Successfully installed redis-5.0.4 spotipy-2.24.0\n"
          ]
        }
      ],
      "source": [
        "!pip install spotipy"
      ]
    },
    {
      "cell_type": "code",
      "source": [
        "import spotipy\n",
        "from spotipy.oauth2 import SpotifyClientCredentials\n",
        "from sklearn.cluster import KMeans\n",
        "import pandas as pd\n",
        "\n",
        "# Inisialisasi koneksi dengan Spotify API\n",
        "client_credentials_manager = SpotifyClientCredentials(client_id='a0ab81f349ff44b7bc650d4d331749e4', client_secret='5e41c7e26c9844e083577d163ecfe8cb')\n",
        "sp = spotipy.Spotify(client_credentials_manager=client_credentials_manager)\n",
        "\n",
        "# Fungsi untuk mendapatkan track playlist dari spotify\n",
        "def get_playlist_tracks(username, playlist_id):\n",
        "    results = sp.user_playlist_tracks(username, playlist_id)\n",
        "    tracks = results['items']\n",
        "    while results['next']:\n",
        "        results = sp.next(results)\n",
        "        tracks.extend(results['items'])\n",
        "    return tracks\n",
        "\n",
        "# Fungsi untuk mendapatkan fitur audio\n",
        "def get_audio_features(tracks):\n",
        "    ids = [track['track']['id'] for track in tracks if track['track']['id'] is not None]\n",
        "    features = sp.audio_features(ids)\n",
        "    return features\n",
        "\n",
        "# mengambil playlist spotify\n",
        "username = 'kve13b0n6bh93w024oos7bdv7'\n",
        "playlist_id = '37i9dQZF1EQncLwOalG3K7'\n",
        "\n",
        "tracks = get_playlist_tracks(username, playlist_id)\n",
        "# mengambil fitur audio untuk lagu-lagu dari playlist\n",
        "features = get_audio_features(tracks)\n",
        "# ekstract nama seluruh lagu\n",
        "track_names = [track['track']['name'] for track in tracks]\n",
        "# Membuat dataframe dari nama lagu dan fitur audio\n",
        "df = pd.DataFrame(features)\n",
        "df['track_name'] = track_names\n",
        "\n",
        "# Ambil fitur yang dibutuhkan untuk clustering\n",
        "X = df[['acousticness', 'danceability', 'energy', 'instrumentalness', 'loudness', 'speechiness', 'tempo', 'valence']]\n",
        "\n",
        "# Isikan jumlah Cluster\n",
        "n_clusters = 4\n",
        "# Buat model KMeans\n",
        "kmeans = KMeans(n_clusters=n_clusters)\n",
        "# Train model cluster\n",
        "kmeans.fit(X)\n",
        "# ambil label cluster\n",
        "labels = kmeans.labels_\n",
        "# tambahkan label cluster ke DataFrame\n",
        "df['cluster'] = labels\n",
        "\n",
        "# tampilkan lagu untuk tiap cluster cluster\n",
        "for cluster_id in range(n_clusters):\n",
        "    cluster_songs = df[df['cluster'] == cluster_id]['track_name']\n",
        "    print(f'Cluster {cluster_id + 1} Songs: ')\n",
        "    print(cluster_songs.tolist())\n",
        "    print()\n"
      ],
      "metadata": {
        "colab": {
          "base_uri": "https://localhost:8080/"
        },
        "id": "x1RGacXjOFn2",
        "outputId": "1d5ad019-0ef5-474b-904a-db7f13a22812"
      },
      "execution_count": 10,
      "outputs": [
        {
          "output_type": "stream",
          "name": "stdout",
          "text": [
            "Cluster 1 Songs: \n",
            "['Espresso', 'Beautiful Things', 'Something Just Like This', 'Havana (feat. Young Thug)', 'Closer', 'Treat You Better', 'Roar', 'Attention', 'Lush Life', 'Rockabye (feat. Sean Paul & Anne-Marie)', 'Work from Home (feat. Ty Dolla $ign)', '2002', 'Dance The Night - From Barbie The Album', 'Chained To The Rhythm', 'The Middle', 'Starving', 'Levitating (feat. DaBaby)', 'Into You', 'Payphone', 'Sorry']\n",
            "\n",
            "Cluster 2 Songs: \n",
            "['LUNCH', 'Cake By The Ocean', \"Don't Start Now\", 'TiK ToK', 'Counting Stars', 'Break My Heart', 'Want to Want Me', 'Maps', 'One Last Time', 'Flowers', 'Feather', 'Symphony (feat. Zara Larsson)', 'Wrecking Ball', 'Call Me Maybe', 'Sugar', 'Houdini', 'These Walls']\n",
            "\n",
            "Cluster 3 Songs: \n",
            "['Heart Attack', 'Bang Bang', 'Wide Awake', 'Physical', 'Side To Side']\n",
            "\n",
            "Cluster 4 Songs: \n",
            "['Dark Horse', 'Sweet but Psycho', 'Kings & Queens', 'Die Young', 'Never Be the Same', 'Without Me', 'Last Friday Night (T.G.I.F.)', 'Drag Me Down']\n",
            "\n"
          ]
        },
        {
          "output_type": "stream",
          "name": "stderr",
          "text": [
            "/usr/local/lib/python3.10/dist-packages/sklearn/cluster/_kmeans.py:870: FutureWarning: The default value of `n_init` will change from 10 to 'auto' in 1.4. Set the value of `n_init` explicitly to suppress the warning\n",
            "  warnings.warn(\n"
          ]
        }
      ]
    }
  ]
}