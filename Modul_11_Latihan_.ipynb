{
  "nbformat": 4,
  "nbformat_minor": 0,
  "metadata": {
    "colab": {
      "provenance": [],
      "authorship_tag": "ABX9TyMF161gCtZKBlpVEAS5Z6uE",
      "include_colab_link": true
    },
    "kernelspec": {
      "name": "python3",
      "display_name": "Python 3"
    },
    "language_info": {
      "name": "python"
    }
  },
  "cells": [
    {
      "cell_type": "markdown",
      "metadata": {
        "id": "view-in-github",
        "colab_type": "text"
      },
      "source": [
        "<a href=\"https://colab.research.google.com/github/rizkypratamayudha/dataMining/blob/main/Modul_11_Latihan_.ipynb\" target=\"_parent\"><img src=\"https://colab.research.google.com/assets/colab-badge.svg\" alt=\"Open In Colab\"/></a>"
      ]
    },
    {
      "cell_type": "code",
      "execution_count": 2,
      "metadata": {
        "colab": {
          "base_uri": "https://localhost:8080/"
        },
        "id": "MFHSa6fmX6e4",
        "outputId": "90a16f21-0a12-4ef0-b458-699471072785"
      },
      "outputs": [
        {
          "output_type": "stream",
          "name": "stdout",
          "text": [
            "Decision Tree Accuracy: 1.0\n",
            "KNN Accuracy with K=3: 0.5714285714285714\n",
            "KNN Accuracy with K=5: 0.7142857142857143\n",
            "KNN Accuracy with K=7: 0.8571428571428571\n",
            "KNN Accuracy with K=9: 0.5714285714285714\n",
            "KNN Minkowski Accuracy: 0.7142857142857143\n",
            "KNN Euclidean Accuracy: 0.7142857142857143\n"
          ]
        }
      ],
      "source": [
        "import pandas as pd\n",
        "from sklearn.model_selection import train_test_split\n",
        "from sklearn.preprocessing import StandardScaler\n",
        "from sklearn.tree import DecisionTreeClassifier\n",
        "from sklearn.neighbors import KNeighborsClassifier\n",
        "from sklearn.metrics import accuracy_score\n",
        "\n",
        "file_path = '/content/Siswa.xlsx'\n",
        "data = pd.read_excel(file_path)\n",
        "\n",
        "data = data.dropna(how='all')\n",
        "\n",
        "data.columns = ['No', 'Nama Lengkap', 'Email', 'Nomer Telepon (WA)', 'Alamat Asal', 'NIM', 'Hobi', 'Tinggi Badan', 'Berat Badan', 'Jenis Kendaraan']\n",
        "\n",
        "data.dropna(subset=['Tinggi Badan', 'Berat Badan'], inplace=True)\n",
        "\n",
        "data['Target'] = data['Tinggi Badan'].apply(lambda x: 1 if x > data['Tinggi Badan'].median() else 0)\n",
        "\n",
        "features = data[['Tinggi Badan', 'Berat Badan']]\n",
        "target = data['Target']\n",
        "\n",
        "X_train, X_test, y_train, y_test = train_test_split(features, target, test_size=0.3, random_state=42)\n",
        "\n",
        "scaler = StandardScaler()\n",
        "X_train_scaled = scaler.fit_transform(X_train)\n",
        "X_test_scaled = scaler.transform(X_test)\n",
        "\n",
        "dt_model = DecisionTreeClassifier(random_state=42)\n",
        "dt_model.fit(X_train_scaled, y_train)\n",
        "dt_predictions = dt_model.predict(X_test_scaled)\n",
        "dt_accuracy = accuracy_score(y_test, dt_predictions)\n",
        "print(f'Decision Tree Accuracy: {dt_accuracy}')\n",
        "\n",
        "k_values = [3, 5, 7, 9]\n",
        "for k in k_values:\n",
        "    knn_model = KNeighborsClassifier(n_neighbors=k)\n",
        "    knn_model.fit(X_train_scaled, y_train)\n",
        "    knn_predictions = knn_model.predict(X_test_scaled)\n",
        "    knn_accuracy = accuracy_score(y_test, knn_predictions)\n",
        "    print(f'KNN Accuracy with K={k}: {knn_accuracy}')\n",
        "\n",
        "knn_minkowski = KNeighborsClassifier(n_neighbors=5, metric='minkowski')\n",
        "knn_minkowski.fit(X_train_scaled, y_train)\n",
        "minkowski_predictions = knn_minkowski.predict(X_test_scaled)\n",
        "minkowski_accuracy = accuracy_score(y_test, minkowski_predictions)\n",
        "print(f'KNN Minkowski Accuracy: {minkowski_accuracy}')\n",
        "\n",
        "knn_euclidean = KNeighborsClassifier(n_neighbors=5, metric='euclidean')\n",
        "knn_euclidean.fit(X_train_scaled, y_train)\n",
        "euclidean_predictions = knn_euclidean.predict(X_test_scaled)\n",
        "euclidean_accuracy = accuracy_score(y_test, euclidean_predictions)\n",
        "print(f'KNN Euclidean Accuracy: {euclidean_accuracy}')\n"
      ]
    }
  ]
}