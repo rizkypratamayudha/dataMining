{
  "nbformat": 4,
  "nbformat_minor": 0,
  "metadata": {
    "colab": {
      "provenance": [],
      "authorship_tag": "ABX9TyMUkOJcn2AP2edXeJjR/xIb",
      "include_colab_link": true
    },
    "kernelspec": {
      "name": "python3",
      "display_name": "Python 3"
    },
    "language_info": {
      "name": "python"
    }
  },
  "cells": [
    {
      "cell_type": "markdown",
      "metadata": {
        "id": "view-in-github",
        "colab_type": "text"
      },
      "source": [
        "<a href=\"https://colab.research.google.com/github/rizkypratamayudha/dataMining/blob/main/detectOutliers.ipynb\" target=\"_parent\"><img src=\"https://colab.research.google.com/assets/colab-badge.svg\" alt=\"Open In Colab\"/></a>"
      ]
    },
    {
      "cell_type": "markdown",
      "source": [
        "import Numpy"
      ],
      "metadata": {
        "id": "891mC_TYZMF_"
      }
    },
    {
      "cell_type": "code",
      "source": [
        "import numpy as np"
      ],
      "metadata": {
        "id": "FvKKKLUJZMaa"
      },
      "execution_count": 1,
      "outputs": []
    },
    {
      "cell_type": "markdown",
      "source": [
        "Mendefinisikan data yang akan digunakan"
      ],
      "metadata": {
        "id": "Ua1OFAQLZWot"
      }
    },
    {
      "cell_type": "code",
      "source": [
        "data = [5,7,9,3,4,-20,3,8,8,6,90,7,56]"
      ],
      "metadata": {
        "id": "W1VK4uj_Zbz4"
      },
      "execution_count": 2,
      "outputs": []
    },
    {
      "cell_type": "markdown",
      "source": [
        "yang termasuk outlier adalah -20, 90, 56"
      ],
      "metadata": {
        "id": "p_ePkHJs3lY2"
      }
    },
    {
      "cell_type": "markdown",
      "source": [
        "mencari kuartil 1 dan kuartil dari data"
      ],
      "metadata": {
        "id": "VPUIt_tj3yNE"
      }
    },
    {
      "cell_type": "code",
      "source": [
        "#hitung nilai q1 dan q3\n",
        "Q1 = np.quantile(data, .25)\n",
        "Q3 = np.quantile(data, .75)"
      ],
      "metadata": {
        "id": "hn655pO03t8X"
      },
      "execution_count": 7,
      "outputs": []
    },
    {
      "cell_type": "markdown",
      "source": [
        "mencari nilai iqr"
      ],
      "metadata": {
        "id": "5pDwpuvA4NFe"
      }
    },
    {
      "cell_type": "code",
      "source": [
        "IQR = Q3 - Q1"
      ],
      "metadata": {
        "id": "s5qaMjMM4PmR"
      },
      "execution_count": 8,
      "outputs": []
    },
    {
      "cell_type": "markdown",
      "source": [
        "print hasil"
      ],
      "metadata": {
        "id": "UF-P9F874hJ-"
      }
    },
    {
      "cell_type": "code",
      "source": [
        "print('Kuartil 1 = ', Q1)\n",
        "print('Kuartil 3 = ', Q3)\n",
        "print('IQR = ', IQR)"
      ],
      "metadata": {
        "colab": {
          "base_uri": "https://localhost:8080/"
        },
        "id": "3LtD2TWn4igV",
        "outputId": "647fbb77-23cc-48d1-b9e9-dfac0e8bb2f8"
      },
      "execution_count": 9,
      "outputs": [
        {
          "output_type": "stream",
          "name": "stdout",
          "text": [
            "Kuartil 1 =  4.0\n",
            "Kuartil 3 =  8.0\n",
            "IQR =  4.0\n"
          ]
        }
      ]
    },
    {
      "cell_type": "markdown",
      "source": [
        "kalikan IQR dengan 1.5(konstanta untuk menemukan outliers)"
      ],
      "metadata": {
        "id": "QYCh9i3q40eM"
      }
    },
    {
      "cell_type": "code",
      "source": [
        "min_IQR = Q1 - 1.5 * IQR\n",
        "max_IQR = Q3 + 1.5 * IQR\n",
        "\n",
        "print('IQR minimum = ', min_IQR)\n",
        "print('IQR maximum = ', max_IQR)"
      ],
      "metadata": {
        "colab": {
          "base_uri": "https://localhost:8080/"
        },
        "id": "ENI6Cznu47xh",
        "outputId": "fbecda18-32d9-4f6a-eea7-2fbcc5af6612"
      },
      "execution_count": 10,
      "outputs": [
        {
          "output_type": "stream",
          "name": "stdout",
          "text": [
            "IQR minimum =  -2.0\n",
            "IQR maximum =  14.0\n"
          ]
        }
      ]
    },
    {
      "cell_type": "markdown",
      "source": [
        "mencari nilai minimum dan maksimum dari data"
      ],
      "metadata": {
        "id": "8lPP-pyg5UK8"
      }
    },
    {
      "cell_type": "code",
      "source": [
        "nilai_min = np.min(data)\n",
        "nilai_max = np.max(data)\n",
        "\n",
        "print('Nilai minimum data = ', nilai_min)\n",
        "print('Nilai maximum data = ', nilai_max)"
      ],
      "metadata": {
        "colab": {
          "base_uri": "https://localhost:8080/"
        },
        "id": "6rqpYKCx5Xfn",
        "outputId": "a0d24b75-984a-4898-970e-dddef76af528"
      },
      "execution_count": 11,
      "outputs": [
        {
          "output_type": "stream",
          "name": "stdout",
          "text": [
            "Nilai minimum data =  -20\n",
            "Nilai maximum data =  90\n"
          ]
        }
      ]
    },
    {
      "cell_type": "markdown",
      "source": [
        "membuat kondisi untuk mendefinisikan outlier"
      ],
      "metadata": {
        "id": "oQWhMc5D5n6j"
      }
    },
    {
      "cell_type": "code",
      "source": [
        "if (nilai_min < min_IQR):\n",
        "    print('Ditemukan low outlier!')\n",
        "else:\n",
        "    print('Tidak ditemukan low outlier!')\n",
        "\n",
        "if (nilai_max > max_IQR):\n",
        "    print('Ditemukan high outlier!')\n",
        "else:\n",
        "    print('Tidak ditemukan high outlier!')"
      ],
      "metadata": {
        "colab": {
          "base_uri": "https://localhost:8080/"
        },
        "id": "wyxlPb0P51G0",
        "outputId": "ed1d0ee4-d006-48ff-c7c8-79d0a65e926f"
      },
      "execution_count": 12,
      "outputs": [
        {
          "output_type": "stream",
          "name": "stdout",
          "text": [
            "Ditemukan low outlier!\n",
            "Ditemukan high outlier!\n"
          ]
        }
      ]
    },
    {
      "cell_type": "markdown",
      "source": [
        "menampilkan data yang termasuk outlier"
      ],
      "metadata": {
        "id": "vheLeGio57TU"
      }
    },
    {
      "cell_type": "code",
      "source": [
        "low_out = []\n",
        "high_out = []\n",
        "\n",
        "for i in data:\n",
        "    if (i < min_IQR):\n",
        "        low_out.append(i)\n",
        "    if (i > max_IQR):\n",
        "        high_out.append(i)\n",
        "\n",
        "print('Low outlier : ', low_out)\n",
        "print('High outlier : ', high_out)"
      ],
      "metadata": {
        "colab": {
          "base_uri": "https://localhost:8080/"
        },
        "id": "sYHQ8Oj45-kE",
        "outputId": "7b0725c6-1884-4488-b91f-873306cf5efd"
      },
      "execution_count": 13,
      "outputs": [
        {
          "output_type": "stream",
          "name": "stdout",
          "text": [
            "Low outlier :  [-20]\n",
            "High outlier :  [90, 56]\n"
          ]
        }
      ]
    },
    {
      "cell_type": "markdown",
      "source": [
        "maka ditemukan nilai outlier"
      ],
      "metadata": {
        "id": "SUfNq6c86DuG"
      }
    }
  ]
}