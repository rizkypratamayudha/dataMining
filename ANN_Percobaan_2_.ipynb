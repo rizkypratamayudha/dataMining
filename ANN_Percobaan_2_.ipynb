{
  "nbformat": 4,
  "nbformat_minor": 0,
  "metadata": {
    "colab": {
      "provenance": [],
      "authorship_tag": "ABX9TyNhkgr1RAtzPlh9bFGb3c+x",
      "include_colab_link": true
    },
    "kernelspec": {
      "name": "python3",
      "display_name": "Python 3"
    },
    "language_info": {
      "name": "python"
    }
  },
  "cells": [
    {
      "cell_type": "markdown",
      "metadata": {
        "id": "view-in-github",
        "colab_type": "text"
      },
      "source": [
        "<a href=\"https://colab.research.google.com/github/rizkypratamayudha/dataMining/blob/main/ANN_Percobaan_2_.ipynb\" target=\"_parent\"><img src=\"https://colab.research.google.com/assets/colab-badge.svg\" alt=\"Open In Colab\"/></a>"
      ]
    },
    {
      "cell_type": "markdown",
      "source": [
        "Import library"
      ],
      "metadata": {
        "id": "HvMcfqW6R_Ji"
      }
    },
    {
      "cell_type": "code",
      "execution_count": 12,
      "metadata": {
        "colab": {
          "base_uri": "https://localhost:8080/"
        },
        "id": "dx2A99UrRWYO",
        "outputId": "769c4781-c262-4649-e8eb-1b75b179ddae"
      },
      "outputs": [
        {
          "output_type": "stream",
          "name": "stdout",
          "text": [
            "Akurasi : 50.0%\n",
            "              precision    recall  f1-score   support\n",
            "\n",
            "      setosa       0.00      0.00      0.00        10\n",
            "  versicolor       0.29      0.44      0.35         9\n",
            "   virginica       0.69      1.00      0.81        11\n",
            "\n",
            "    accuracy                           0.50        30\n",
            "   macro avg       0.32      0.48      0.39        30\n",
            "weighted avg       0.34      0.50      0.40        30\n",
            "\n",
            "\n",
            "Arsitektur Neural Network: \n",
            "Input Layer : 4 neurons\n",
            "Hidden Layer 1: 2 neurons\n",
            "Output Layer : 3 neurons\n",
            "Fungsi Aktivasi : relu\n",
            "\n",
            "Bobot dan bias : \n",
            "Bobot antara input dan hidden layer : \n",
            "[[ 0.17464148  1.39583283]\n",
            " [ 0.04365591 -0.23615075]\n",
            " [-0.2635151  -0.12595657]\n",
            " [-0.45936094  1.31232884]]\n",
            "Bobot antara hidden dan output layer : \n",
            "[[-0.70784718  0.69470257  0.36779853]\n",
            " [-1.19174309 -0.60616551 -0.24568763]]\n",
            "Bias dari hidden layer : \n",
            "[-0.22562313  1.122528  ]\n",
            "Bias dari output layer : \n",
            "[ 0.06335432 -0.28677109 -0.8247034 ]\n"
          ]
        },
        {
          "output_type": "stream",
          "name": "stderr",
          "text": [
            "/usr/local/lib/python3.10/dist-packages/sklearn/neural_network/_multilayer_perceptron.py:686: ConvergenceWarning: Stochastic Optimizer: Maximum iterations (500) reached and the optimization hasn't converged yet.\n",
            "  warnings.warn(\n",
            "/usr/local/lib/python3.10/dist-packages/sklearn/metrics/_classification.py:1344: UndefinedMetricWarning: Precision and F-score are ill-defined and being set to 0.0 in labels with no predicted samples. Use `zero_division` parameter to control this behavior.\n",
            "  _warn_prf(average, modifier, msg_start, len(result))\n",
            "/usr/local/lib/python3.10/dist-packages/sklearn/metrics/_classification.py:1344: UndefinedMetricWarning: Precision and F-score are ill-defined and being set to 0.0 in labels with no predicted samples. Use `zero_division` parameter to control this behavior.\n",
            "  _warn_prf(average, modifier, msg_start, len(result))\n",
            "/usr/local/lib/python3.10/dist-packages/sklearn/metrics/_classification.py:1344: UndefinedMetricWarning: Precision and F-score are ill-defined and being set to 0.0 in labels with no predicted samples. Use `zero_division` parameter to control this behavior.\n",
            "  _warn_prf(average, modifier, msg_start, len(result))\n"
          ]
        }
      ],
      "source": [
        "import numpy as np\n",
        "from sklearn.datasets import load_iris\n",
        "from sklearn.model_selection import train_test_split\n",
        "from sklearn.preprocessing import StandardScaler\n",
        "from sklearn.neural_network import MLPClassifier\n",
        "from sklearn.metrics import accuracy_score, classification_report\n",
        "\n",
        "#load dataset iris\n",
        "iris = load_iris()\n",
        "x = iris.data\n",
        "y = iris.target\n",
        "\n",
        "#split data untuk training dan testing\n",
        "x_train, x_test, y_train, y_test = train_test_split(x, y, test_size=0.2, random_state=42)\n",
        "\n",
        "#Standarisasi fitur\n",
        "scaler = StandardScaler()\n",
        "x_train = scaler.fit_transform(x_train)\n",
        "x_test = scaler.transform(x_test)\n",
        "\n",
        "#Inisialisasi dan pelatihan model MLPClassifier\n",
        "mlp = MLPClassifier(hidden_layer_sizes=(2,),max_iter=500, alpha=0.01, solver='adam', random_state=42)\n",
        "mlp.fit(x_train, y_train)\n",
        "\n",
        "#Prediksi pada data\n",
        "y_pred = mlp.predict(x_test)\n",
        "\n",
        "#Evaluasi Model\n",
        "accuracy = accuracy_score(y_test,y_pred)\n",
        "print(f'Akurasi : {accuracy * 100}%')\n",
        "print (classification_report(y_test, y_pred, target_names=iris.target_names))\n",
        "\n",
        "#Menampilkan arsitektur neural network\n",
        "print(\"\\nArsitektur Neural Network: \")\n",
        "print(f\"Input Layer : {x_train.shape[1]} neurons\")\n",
        "for i, size in enumerate(mlp.hidden_layer_sizes):\n",
        "  print(f\"Hidden Layer {i+1}: {size} neurons\")\n",
        "  print(f\"Output Layer : {mlp.n_outputs_} neurons\")\n",
        "  print(f\"Fungsi Aktivasi : {mlp.activation}\")\n",
        "\n",
        "#jika ingin melihat bobot dan bias hasil pelatihan\n",
        "print(\"\\nBobot dan bias : \")\n",
        "print(\"Bobot antara input dan hidden layer : \")\n",
        "print(mlp.coefs_[0])\n",
        "print(\"Bobot antara hidden dan output layer : \")\n",
        "print(mlp.coefs_[1])\n",
        "print(\"Bias dari hidden layer : \")\n",
        "print(mlp.intercepts_[0])\n",
        "print(\"Bias dari output layer : \")\n",
        "print(mlp.intercepts_[1])"
      ]
    }
  ]
}